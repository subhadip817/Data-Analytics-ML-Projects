{
 "cells": [
  {
   "cell_type": "markdown",
   "metadata": {},
   "source": [
    "# tic-tac-toe\n",
    "## Problem Statement:-\n",
    "This database encodes the complete set of possible board configurations at the end of tic-tac-toe games, where \"x\" is assumed to have played first. The target concept is \"win for x\" (i.e., true when \"x\" has one of 8 possible ways to create a \"three-in-a-row\")."
   ]
  },
  {
   "cell_type": "markdown",
   "metadata": {},
   "source": [
    "###  We will explore the problem in following stages:\n",
    "1. Data Exploration \n",
    "2. Data Cleaning \n",
    "3. Feature Engineering\n",
    "4. Model Building"
   ]
  },
  {
   "cell_type": "markdown",
   "metadata": {},
   "source": [
    "### Dataset description\n",
    "The dataset has 958 entries with 10 columns.The description of each columns is given below:\n",
    "columns named form V1 to V10"
   ]
  },
  {
   "cell_type": "markdown",
   "metadata": {},
   "source": [
    "### Import the necessary libraries"
   ]
  },
  {
   "cell_type": "code",
   "execution_count": 12,
   "metadata": {},
   "outputs": [],
   "source": [
    "# importing the necessary packages to process or plot the data\n",
    "import os\n",
    "import pandas as pd\n",
    "from sklearn.model_selection import train_test_split\n",
    "from sklearn.neural_network import MLPClassifier\n",
    "from sklearn.metrics import classification_report,confusion_matrix, accuracy_score\n",
    "import matplotlib.pyplot as plt"
   ]
  },
  {
   "cell_type": "code",
   "execution_count": 13,
   "metadata": {},
   "outputs": [],
   "source": [
    "# importing os library\n",
    "import os\n",
    "for dirname, _, filenames in os.walk('/kaggle/input'):\n",
    "    for filename in filenames:\n",
    "        print(os.path.join(dirname, filename))"
   ]
  },
  {
   "cell_type": "markdown",
   "metadata": {},
   "source": [
    "## Data Exploration"
   ]
  },
  {
   "cell_type": "markdown",
   "metadata": {},
   "source": [
    "### Read the csv file with the help of pandas read_csv function"
   ]
  },
  {
   "cell_type": "code",
   "execution_count": 14,
   "metadata": {},
   "outputs": [
    {
     "data": {
      "text/html": [
       "<div>\n",
       "<style scoped>\n",
       "    .dataframe tbody tr th:only-of-type {\n",
       "        vertical-align: middle;\n",
       "    }\n",
       "\n",
       "    .dataframe tbody tr th {\n",
       "        vertical-align: top;\n",
       "    }\n",
       "\n",
       "    .dataframe thead th {\n",
       "        text-align: right;\n",
       "    }\n",
       "</style>\n",
       "<table border=\"1\" class=\"dataframe\">\n",
       "  <thead>\n",
       "    <tr style=\"text-align: right;\">\n",
       "      <th></th>\n",
       "      <th>V1</th>\n",
       "      <th>V2</th>\n",
       "      <th>V3</th>\n",
       "      <th>V4</th>\n",
       "      <th>V5</th>\n",
       "      <th>V6</th>\n",
       "      <th>V7</th>\n",
       "      <th>V8</th>\n",
       "      <th>V9</th>\n",
       "      <th>V10</th>\n",
       "    </tr>\n",
       "  </thead>\n",
       "  <tbody>\n",
       "    <tr>\n",
       "      <th>0</th>\n",
       "      <td>x</td>\n",
       "      <td>x</td>\n",
       "      <td>x</td>\n",
       "      <td>x</td>\n",
       "      <td>o</td>\n",
       "      <td>o</td>\n",
       "      <td>x</td>\n",
       "      <td>o</td>\n",
       "      <td>o</td>\n",
       "      <td>positive</td>\n",
       "    </tr>\n",
       "    <tr>\n",
       "      <th>1</th>\n",
       "      <td>x</td>\n",
       "      <td>x</td>\n",
       "      <td>x</td>\n",
       "      <td>x</td>\n",
       "      <td>o</td>\n",
       "      <td>o</td>\n",
       "      <td>o</td>\n",
       "      <td>x</td>\n",
       "      <td>o</td>\n",
       "      <td>positive</td>\n",
       "    </tr>\n",
       "    <tr>\n",
       "      <th>2</th>\n",
       "      <td>x</td>\n",
       "      <td>x</td>\n",
       "      <td>x</td>\n",
       "      <td>x</td>\n",
       "      <td>o</td>\n",
       "      <td>o</td>\n",
       "      <td>o</td>\n",
       "      <td>o</td>\n",
       "      <td>x</td>\n",
       "      <td>positive</td>\n",
       "    </tr>\n",
       "    <tr>\n",
       "      <th>3</th>\n",
       "      <td>x</td>\n",
       "      <td>x</td>\n",
       "      <td>x</td>\n",
       "      <td>x</td>\n",
       "      <td>o</td>\n",
       "      <td>o</td>\n",
       "      <td>o</td>\n",
       "      <td>b</td>\n",
       "      <td>b</td>\n",
       "      <td>positive</td>\n",
       "    </tr>\n",
       "    <tr>\n",
       "      <th>4</th>\n",
       "      <td>x</td>\n",
       "      <td>x</td>\n",
       "      <td>x</td>\n",
       "      <td>x</td>\n",
       "      <td>o</td>\n",
       "      <td>o</td>\n",
       "      <td>b</td>\n",
       "      <td>o</td>\n",
       "      <td>b</td>\n",
       "      <td>positive</td>\n",
       "    </tr>\n",
       "    <tr>\n",
       "      <th>5</th>\n",
       "      <td>x</td>\n",
       "      <td>x</td>\n",
       "      <td>x</td>\n",
       "      <td>x</td>\n",
       "      <td>o</td>\n",
       "      <td>o</td>\n",
       "      <td>b</td>\n",
       "      <td>b</td>\n",
       "      <td>o</td>\n",
       "      <td>positive</td>\n",
       "    </tr>\n",
       "    <tr>\n",
       "      <th>6</th>\n",
       "      <td>x</td>\n",
       "      <td>x</td>\n",
       "      <td>x</td>\n",
       "      <td>x</td>\n",
       "      <td>o</td>\n",
       "      <td>b</td>\n",
       "      <td>o</td>\n",
       "      <td>o</td>\n",
       "      <td>b</td>\n",
       "      <td>positive</td>\n",
       "    </tr>\n",
       "    <tr>\n",
       "      <th>7</th>\n",
       "      <td>x</td>\n",
       "      <td>x</td>\n",
       "      <td>x</td>\n",
       "      <td>x</td>\n",
       "      <td>o</td>\n",
       "      <td>b</td>\n",
       "      <td>o</td>\n",
       "      <td>b</td>\n",
       "      <td>o</td>\n",
       "      <td>positive</td>\n",
       "    </tr>\n",
       "    <tr>\n",
       "      <th>8</th>\n",
       "      <td>x</td>\n",
       "      <td>x</td>\n",
       "      <td>x</td>\n",
       "      <td>x</td>\n",
       "      <td>o</td>\n",
       "      <td>b</td>\n",
       "      <td>b</td>\n",
       "      <td>o</td>\n",
       "      <td>o</td>\n",
       "      <td>positive</td>\n",
       "    </tr>\n",
       "    <tr>\n",
       "      <th>9</th>\n",
       "      <td>x</td>\n",
       "      <td>x</td>\n",
       "      <td>x</td>\n",
       "      <td>x</td>\n",
       "      <td>b</td>\n",
       "      <td>o</td>\n",
       "      <td>o</td>\n",
       "      <td>o</td>\n",
       "      <td>b</td>\n",
       "      <td>positive</td>\n",
       "    </tr>\n",
       "  </tbody>\n",
       "</table>\n",
       "</div>"
      ],
      "text/plain": [
       "  V1 V2 V3 V4 V5 V6 V7 V8 V9       V10\n",
       "0  x  x  x  x  o  o  x  o  o  positive\n",
       "1  x  x  x  x  o  o  o  x  o  positive\n",
       "2  x  x  x  x  o  o  o  o  x  positive\n",
       "3  x  x  x  x  o  o  o  b  b  positive\n",
       "4  x  x  x  x  o  o  b  o  b  positive\n",
       "5  x  x  x  x  o  o  b  b  o  positive\n",
       "6  x  x  x  x  o  b  o  o  b  positive\n",
       "7  x  x  x  x  o  b  o  b  o  positive\n",
       "8  x  x  x  x  o  b  b  o  o  positive\n",
       "9  x  x  x  x  b  o  o  o  b  positive"
      ]
     },
     "execution_count": 14,
     "metadata": {},
     "output_type": "execute_result"
    }
   ],
   "source": [
    "# with the help of pandas read the csv file\n",
    "df = pd.read_csv('tic-tac-toe-endgame.csv')\n",
    "\n",
    "# using the head function see what is originlly present in the dataset\n",
    "df.head(10)"
   ]
  },
  {
   "cell_type": "markdown",
   "metadata": {},
   "source": [
    "### Shape of the dataset"
   ]
  },
  {
   "cell_type": "code",
   "execution_count": 15,
   "metadata": {},
   "outputs": [
    {
     "data": {
      "text/plain": [
       "(958, 10)"
      ]
     },
     "execution_count": 15,
     "metadata": {},
     "output_type": "execute_result"
    }
   ],
   "source": [
    "# shape method gives the shape of dataframe\n",
    "df.shape"
   ]
  },
  {
   "cell_type": "markdown",
   "metadata": {},
   "source": [
    "### Size of the dataset"
   ]
  },
  {
   "cell_type": "code",
   "execution_count": 16,
   "metadata": {},
   "outputs": [
    {
     "data": {
      "text/plain": [
       "9580"
      ]
     },
     "execution_count": 16,
     "metadata": {},
     "output_type": "execute_result"
    }
   ],
   "source": [
    "# size method gives the size of dataframe (like rows*columns)\n",
    "df.size"
   ]
  },
  {
   "cell_type": "markdown",
   "metadata": {},
   "source": [
    "### Description of all particular column of the dataset"
   ]
  },
  {
   "cell_type": "code",
   "execution_count": 17,
   "metadata": {},
   "outputs": [
    {
     "data": {
      "text/html": [
       "<div>\n",
       "<style scoped>\n",
       "    .dataframe tbody tr th:only-of-type {\n",
       "        vertical-align: middle;\n",
       "    }\n",
       "\n",
       "    .dataframe tbody tr th {\n",
       "        vertical-align: top;\n",
       "    }\n",
       "\n",
       "    .dataframe thead th {\n",
       "        text-align: right;\n",
       "    }\n",
       "</style>\n",
       "<table border=\"1\" class=\"dataframe\">\n",
       "  <thead>\n",
       "    <tr style=\"text-align: right;\">\n",
       "      <th></th>\n",
       "      <th>V1</th>\n",
       "      <th>V2</th>\n",
       "      <th>V3</th>\n",
       "      <th>V4</th>\n",
       "      <th>V5</th>\n",
       "      <th>V6</th>\n",
       "      <th>V7</th>\n",
       "      <th>V8</th>\n",
       "      <th>V9</th>\n",
       "      <th>V10</th>\n",
       "    </tr>\n",
       "  </thead>\n",
       "  <tbody>\n",
       "    <tr>\n",
       "      <th>count</th>\n",
       "      <td>958</td>\n",
       "      <td>958</td>\n",
       "      <td>958</td>\n",
       "      <td>958</td>\n",
       "      <td>958</td>\n",
       "      <td>958</td>\n",
       "      <td>958</td>\n",
       "      <td>958</td>\n",
       "      <td>958</td>\n",
       "      <td>958</td>\n",
       "    </tr>\n",
       "    <tr>\n",
       "      <th>unique</th>\n",
       "      <td>3</td>\n",
       "      <td>3</td>\n",
       "      <td>3</td>\n",
       "      <td>3</td>\n",
       "      <td>3</td>\n",
       "      <td>3</td>\n",
       "      <td>3</td>\n",
       "      <td>3</td>\n",
       "      <td>3</td>\n",
       "      <td>2</td>\n",
       "    </tr>\n",
       "    <tr>\n",
       "      <th>top</th>\n",
       "      <td>x</td>\n",
       "      <td>x</td>\n",
       "      <td>x</td>\n",
       "      <td>x</td>\n",
       "      <td>x</td>\n",
       "      <td>x</td>\n",
       "      <td>x</td>\n",
       "      <td>x</td>\n",
       "      <td>x</td>\n",
       "      <td>positive</td>\n",
       "    </tr>\n",
       "    <tr>\n",
       "      <th>freq</th>\n",
       "      <td>418</td>\n",
       "      <td>378</td>\n",
       "      <td>418</td>\n",
       "      <td>378</td>\n",
       "      <td>458</td>\n",
       "      <td>378</td>\n",
       "      <td>418</td>\n",
       "      <td>378</td>\n",
       "      <td>418</td>\n",
       "      <td>626</td>\n",
       "    </tr>\n",
       "  </tbody>\n",
       "</table>\n",
       "</div>"
      ],
      "text/plain": [
       "         V1   V2   V3   V4   V5   V6   V7   V8   V9       V10\n",
       "count   958  958  958  958  958  958  958  958  958       958\n",
       "unique    3    3    3    3    3    3    3    3    3         2\n",
       "top       x    x    x    x    x    x    x    x    x  positive\n",
       "freq    418  378  418  378  458  378  418  378  418       626"
      ]
     },
     "execution_count": 17,
     "metadata": {},
     "output_type": "execute_result"
    }
   ],
   "source": [
    "# descrbe function gives the detailed description of dataframe\n",
    "df.describe(include='all')"
   ]
  },
  {
   "cell_type": "markdown",
   "metadata": {},
   "source": [
    "## Data Cleaning"
   ]
  },
  {
   "cell_type": "markdown",
   "metadata": {},
   "source": [
    "### To check the null values in the dataset"
   ]
  },
  {
   "cell_type": "code",
   "execution_count": 18,
   "metadata": {
    "scrolled": true
   },
   "outputs": [
    {
     "data": {
      "text/plain": [
       "V1     0\n",
       "V2     0\n",
       "V3     0\n",
       "V4     0\n",
       "V5     0\n",
       "V6     0\n",
       "V7     0\n",
       "V8     0\n",
       "V9     0\n",
       "V10    0\n",
       "dtype: int64"
      ]
     },
     "execution_count": 18,
     "metadata": {},
     "output_type": "execute_result"
    }
   ],
   "source": [
    "# to see which column have null values use .isnull() ,as we can see two columns have lots of missing values.\n",
    "df.isnull().sum()"
   ]
  },
  {
   "cell_type": "markdown",
   "metadata": {},
   "source": [
    "## Feature Engineering"
   ]
  },
  {
   "cell_type": "markdown",
   "metadata": {},
   "source": [
    "### Factorizing each representation to numeric form"
   ]
  },
  {
   "cell_type": "code",
   "execution_count": 19,
   "metadata": {},
   "outputs": [
    {
     "name": "stdout",
     "output_type": "stream",
     "text": [
      "Index(['b', 'o', 'x'], dtype='object') Index(['b', 'o', 'x'], dtype='object') Index(['b', 'o', 'x'], dtype='object') Index(['b', 'o', 'x'], dtype='object') Index(['b', 'o', 'x'], dtype='object') Index(['b', 'o', 'x'], dtype='object') Index(['b', 'o', 'x'], dtype='object') Index(['b', 'o', 'x'], dtype='object') Index(['b', 'o', 'x'], dtype='object') Index(['negative', 'positive'], dtype='object')\n",
      "     V1  V2  V3  V4  V5  V6  V7  V8  V9  V10\n",
      "0     2   2   2   2   1   1   2   1   1    1\n",
      "1     2   2   2   2   1   1   1   2   1    1\n",
      "2     2   2   2   2   1   1   1   1   2    1\n",
      "3     2   2   2   2   1   1   1   0   0    1\n",
      "4     2   2   2   2   1   1   0   1   0    1\n",
      "5     2   2   2   2   1   1   0   0   1    1\n",
      "6     2   2   2   2   1   0   1   1   0    1\n",
      "7     2   2   2   2   1   0   1   0   1    1\n",
      "8     2   2   2   2   1   0   0   1   1    1\n",
      "9     2   2   2   2   0   1   1   1   0    1\n",
      "10    2   2   2   2   0   1   1   0   1    1\n",
      "11    2   2   2   2   0   1   0   1   1    1\n",
      "12    2   2   2   1   2   1   2   1   1    1\n",
      "13    2   2   2   1   2   1   1   2   1    1\n",
      "14    2   2   2   1   2   1   1   1   2    1\n",
      "15    2   2   2   1   2   1   1   0   0    1\n",
      "16    2   2   2   1   2   1   0   1   0    1\n",
      "17    2   2   2   1   2   1   0   0   1    1\n",
      "18    2   2   2   1   2   0   1   1   0    1\n",
      "19    2   2   2   1   2   0   1   0   1    1\n",
      "20    2   2   2   1   2   0   0   1   1    1\n",
      "21    2   2   2   1   1   2   2   1   1    1\n",
      "22    2   2   2   1   1   2   1   2   1    1\n",
      "23    2   2   2   1   1   2   1   1   2    1\n",
      "24    2   2   2   1   1   2   1   0   0    1\n",
      "25    2   2   2   1   1   2   0   1   0    1\n",
      "26    2   2   2   1   1   2   0   0   1    1\n",
      "27    2   2   2   1   1   0   2   1   0    1\n",
      "28    2   2   2   1   1   0   2   0   1    1\n",
      "29    2   2   2   1   1   0   1   2   0    1\n",
      "..   ..  ..  ..  ..  ..  ..  ..  ..  ..  ...\n",
      "928   0   0   2   2   2   0   1   1   1    0\n",
      "929   0   0   2   2   0   2   1   1   1    0\n",
      "930   0   0   2   1   1   1   2   2   0    0\n",
      "931   0   0   2   1   1   1   2   0   2    0\n",
      "932   0   0   2   1   1   1   0   2   2    0\n",
      "933   0   0   2   0   2   2   1   1   1    0\n",
      "934   0   0   1   2   2   1   2   0   1    0\n",
      "935   0   0   1   2   2   1   0   2   1    0\n",
      "936   0   0   1   2   1   2   1   2   0    0\n",
      "937   0   0   1   2   1   2   1   0   2    0\n",
      "938   0   0   1   2   1   0   1   2   2    0\n",
      "939   0   0   1   2   0   1   2   2   1    0\n",
      "940   0   0   1   0   2   1   2   2   1    0\n",
      "941   0   0   1   0   1   2   1   2   2    0\n",
      "942   2   2   1   1   2   2   2   1   1    0\n",
      "943   2   2   1   1   1   2   2   2   1    0\n",
      "944   2   2   1   1   1   2   2   1   2    0\n",
      "945   2   1   2   2   2   1   1   2   1    0\n",
      "946   2   1   2   2   1   2   1   2   1    0\n",
      "947   2   1   2   2   1   1   1   2   2    0\n",
      "948   2   1   2   1   2   2   1   2   1    0\n",
      "949   2   1   2   1   1   2   2   2   1    0\n",
      "950   2   1   1   1   2   2   2   2   1    0\n",
      "951   1   2   2   2   2   1   1   1   2    0\n",
      "952   1   2   2   2   1   1   2   1   2    0\n",
      "953   1   2   2   2   1   1   1   2   2    0\n",
      "954   1   2   1   2   2   1   2   1   2    0\n",
      "955   1   2   1   2   1   2   2   1   2    0\n",
      "956   1   2   1   1   2   2   2   1   2    0\n",
      "957   1   1   2   2   2   1   1   2   2    0\n",
      "\n",
      "[958 rows x 10 columns]\n"
     ]
    }
   ],
   "source": [
    "# factorizing each sign in each column\n",
    "df['V1'],v1 = pd.factorize(df['V1'], sort=True)\n",
    "df['V2'],v2 = pd.factorize(df['V2'], sort=True)\n",
    "df['V3'],v3 = pd.factorize(df['V3'], sort=True)\n",
    "df['V4'],v4 = pd.factorize(df['V4'], sort=True)\n",
    "df['V5'],v5 = pd.factorize(df['V5'], sort=True)\n",
    "df['V6'],v6 = pd.factorize(df['V6'], sort=True)\n",
    "df['V7'],v7 = pd.factorize(df['V7'], sort=True)\n",
    "df['V8'],v8 = pd.factorize(df['V8'], sort=True)\n",
    "df['V9'],v9 = pd.factorize(df['V9'], sort=True)\n",
    "df['V10'],v10 = pd.factorize(df['V10'], sort=True)\n",
    "print(v1, v2, v3, v4, v5, v6, v7, v8, v9, v10)\n",
    "print(df)"
   ]
  },
  {
   "cell_type": "markdown",
   "metadata": {},
   "source": [
    "### Again glancing the dataset"
   ]
  },
  {
   "cell_type": "code",
   "execution_count": 20,
   "metadata": {},
   "outputs": [
    {
     "data": {
      "text/html": [
       "<div>\n",
       "<style scoped>\n",
       "    .dataframe tbody tr th:only-of-type {\n",
       "        vertical-align: middle;\n",
       "    }\n",
       "\n",
       "    .dataframe tbody tr th {\n",
       "        vertical-align: top;\n",
       "    }\n",
       "\n",
       "    .dataframe thead th {\n",
       "        text-align: right;\n",
       "    }\n",
       "</style>\n",
       "<table border=\"1\" class=\"dataframe\">\n",
       "  <thead>\n",
       "    <tr style=\"text-align: right;\">\n",
       "      <th></th>\n",
       "      <th>V1</th>\n",
       "      <th>V2</th>\n",
       "      <th>V3</th>\n",
       "      <th>V4</th>\n",
       "      <th>V5</th>\n",
       "      <th>V6</th>\n",
       "      <th>V7</th>\n",
       "      <th>V8</th>\n",
       "      <th>V9</th>\n",
       "      <th>V10</th>\n",
       "    </tr>\n",
       "  </thead>\n",
       "  <tbody>\n",
       "    <tr>\n",
       "      <th>0</th>\n",
       "      <td>2</td>\n",
       "      <td>2</td>\n",
       "      <td>2</td>\n",
       "      <td>2</td>\n",
       "      <td>1</td>\n",
       "      <td>1</td>\n",
       "      <td>2</td>\n",
       "      <td>1</td>\n",
       "      <td>1</td>\n",
       "      <td>1</td>\n",
       "    </tr>\n",
       "    <tr>\n",
       "      <th>1</th>\n",
       "      <td>2</td>\n",
       "      <td>2</td>\n",
       "      <td>2</td>\n",
       "      <td>2</td>\n",
       "      <td>1</td>\n",
       "      <td>1</td>\n",
       "      <td>1</td>\n",
       "      <td>2</td>\n",
       "      <td>1</td>\n",
       "      <td>1</td>\n",
       "    </tr>\n",
       "    <tr>\n",
       "      <th>2</th>\n",
       "      <td>2</td>\n",
       "      <td>2</td>\n",
       "      <td>2</td>\n",
       "      <td>2</td>\n",
       "      <td>1</td>\n",
       "      <td>1</td>\n",
       "      <td>1</td>\n",
       "      <td>1</td>\n",
       "      <td>2</td>\n",
       "      <td>1</td>\n",
       "    </tr>\n",
       "    <tr>\n",
       "      <th>3</th>\n",
       "      <td>2</td>\n",
       "      <td>2</td>\n",
       "      <td>2</td>\n",
       "      <td>2</td>\n",
       "      <td>1</td>\n",
       "      <td>1</td>\n",
       "      <td>1</td>\n",
       "      <td>0</td>\n",
       "      <td>0</td>\n",
       "      <td>1</td>\n",
       "    </tr>\n",
       "    <tr>\n",
       "      <th>4</th>\n",
       "      <td>2</td>\n",
       "      <td>2</td>\n",
       "      <td>2</td>\n",
       "      <td>2</td>\n",
       "      <td>1</td>\n",
       "      <td>1</td>\n",
       "      <td>0</td>\n",
       "      <td>1</td>\n",
       "      <td>0</td>\n",
       "      <td>1</td>\n",
       "    </tr>\n",
       "    <tr>\n",
       "      <th>5</th>\n",
       "      <td>2</td>\n",
       "      <td>2</td>\n",
       "      <td>2</td>\n",
       "      <td>2</td>\n",
       "      <td>1</td>\n",
       "      <td>1</td>\n",
       "      <td>0</td>\n",
       "      <td>0</td>\n",
       "      <td>1</td>\n",
       "      <td>1</td>\n",
       "    </tr>\n",
       "    <tr>\n",
       "      <th>6</th>\n",
       "      <td>2</td>\n",
       "      <td>2</td>\n",
       "      <td>2</td>\n",
       "      <td>2</td>\n",
       "      <td>1</td>\n",
       "      <td>0</td>\n",
       "      <td>1</td>\n",
       "      <td>1</td>\n",
       "      <td>0</td>\n",
       "      <td>1</td>\n",
       "    </tr>\n",
       "    <tr>\n",
       "      <th>7</th>\n",
       "      <td>2</td>\n",
       "      <td>2</td>\n",
       "      <td>2</td>\n",
       "      <td>2</td>\n",
       "      <td>1</td>\n",
       "      <td>0</td>\n",
       "      <td>1</td>\n",
       "      <td>0</td>\n",
       "      <td>1</td>\n",
       "      <td>1</td>\n",
       "    </tr>\n",
       "    <tr>\n",
       "      <th>8</th>\n",
       "      <td>2</td>\n",
       "      <td>2</td>\n",
       "      <td>2</td>\n",
       "      <td>2</td>\n",
       "      <td>1</td>\n",
       "      <td>0</td>\n",
       "      <td>0</td>\n",
       "      <td>1</td>\n",
       "      <td>1</td>\n",
       "      <td>1</td>\n",
       "    </tr>\n",
       "    <tr>\n",
       "      <th>9</th>\n",
       "      <td>2</td>\n",
       "      <td>2</td>\n",
       "      <td>2</td>\n",
       "      <td>2</td>\n",
       "      <td>0</td>\n",
       "      <td>1</td>\n",
       "      <td>1</td>\n",
       "      <td>1</td>\n",
       "      <td>0</td>\n",
       "      <td>1</td>\n",
       "    </tr>\n",
       "  </tbody>\n",
       "</table>\n",
       "</div>"
      ],
      "text/plain": [
       "   V1  V2  V3  V4  V5  V6  V7  V8  V9  V10\n",
       "0   2   2   2   2   1   1   2   1   1    1\n",
       "1   2   2   2   2   1   1   1   2   1    1\n",
       "2   2   2   2   2   1   1   1   1   2    1\n",
       "3   2   2   2   2   1   1   1   0   0    1\n",
       "4   2   2   2   2   1   1   0   1   0    1\n",
       "5   2   2   2   2   1   1   0   0   1    1\n",
       "6   2   2   2   2   1   0   1   1   0    1\n",
       "7   2   2   2   2   1   0   1   0   1    1\n",
       "8   2   2   2   2   1   0   0   1   1    1\n",
       "9   2   2   2   2   0   1   1   1   0    1"
      ]
     },
     "execution_count": 20,
     "metadata": {},
     "output_type": "execute_result"
    }
   ],
   "source": [
    "# again checking the dataset\n",
    "df.head(10)"
   ]
  },
  {
   "cell_type": "code",
   "execution_count": 21,
   "metadata": {},
   "outputs": [
    {
     "data": {
      "text/plain": [
       "['negative', 'positive']"
      ]
     },
     "execution_count": 21,
     "metadata": {},
     "output_type": "execute_result"
    }
   ],
   "source": [
    "# give the classes of column V10\n",
    "class_names = [v10[0], v10[1]]\n",
    "class_names"
   ]
  },
  {
   "cell_type": "markdown",
   "metadata": {},
   "source": [
    "### Data splitting"
   ]
  },
  {
   "cell_type": "code",
   "execution_count": 22,
   "metadata": {},
   "outputs": [
    {
     "data": {
      "text/plain": [
       "[(718, 9), (240, 9), (718,), (240,)]"
      ]
     },
     "execution_count": 22,
     "metadata": {},
     "output_type": "execute_result"
    }
   ],
   "source": [
    "# splitting the data for applicaiton of model\n",
    "x = df.drop('V10',axis=1)\n",
    "y = df['V10']\n",
    "\n",
    "# Split the data into test and train test\n",
    "x_train, x_test, y_train, y_test = train_test_split(x, y)\n",
    "[x_train.shape, x_test.shape, y_train.shape, y_test.shape]"
   ]
  },
  {
   "cell_type": "markdown",
   "metadata": {},
   "source": [
    "## EDA"
   ]
  },
  {
   "cell_type": "markdown",
   "metadata": {},
   "source": [
    "### Funciton for plotting mean accurancy and point accuracy"
   ]
  },
  {
   "cell_type": "code",
   "execution_count": 23,
   "metadata": {},
   "outputs": [],
   "source": [
    "# defining mean accuracy function\n",
    "def classify_mean_accuracy(max_n, max_c):\n",
    "    \n",
    "    max_range = range(1, max_n)\n",
    "    cases = range(0, max_c)\n",
    "    funcs = ['relu', 'logistic', 'tanh']\n",
    "    \n",
    "    best_func = 'relu'\n",
    "    best_g_sum = 0\n",
    "    best_g = 0\n",
    "    best_g_n = 0\n",
    "    \n",
    "    for func in funcs:\n",
    "        \n",
    "        best_list = []\n",
    "        best_sum = 0\n",
    "        best_c = 0\n",
    "        best_c_n = 0\n",
    "        \n",
    "        for case in cases:\n",
    "            \n",
    "            best = 0\n",
    "            best_n = 0\n",
    "            accuracy_list = []\n",
    "            \n",
    "            for n in max_range:\n",
    "                mlp = MLPClassifier(solver='lbfgs', activation=func, hidden_layer_sizes=(n))\n",
    "                mlp.fit(x_train, y_train)\n",
    "                y_pred = mlp.predict(x_test)\n",
    "                score = accuracy_score(y_test, y_pred)\n",
    "                accuracy_list.append(score)\n",
    "                \n",
    "                if score > best:\n",
    "                    best = score\n",
    "                    best_n = n\n",
    "            \n",
    "            accuracy_sum = sum(accuracy_list)\n",
    "            \n",
    "            if accuracy_sum > best_sum:\n",
    "                best_sum = accuracy_sum\n",
    "                best_list = accuracy_list\n",
    "                best_c = best\n",
    "                best_c_n = best_n\n",
    "                \n",
    "        if best_sum > best_g_sum:\n",
    "            best_g_sum = best_sum\n",
    "            best_g = best_c\n",
    "            best_g_n = best_c_n\n",
    "            best_func = func\n",
    "                \n",
    "        plt.plot(max_range, best_list, label=func)\n",
    "    \n",
    "    plt.title('Activation function: relu x logistic x tanh')\n",
    "    plt.xlabel('Number of neurons')\n",
    "    plt.ylabel('Accuracy')\n",
    "    plt.legend(loc='best')\n",
    "    plt.show()\n",
    "    \n",
    "    return (best_g, best_g_n, best_func)\n",
    "\n",
    "# defining point accuracy function\n",
    "def classify_point_accuracy(max_n, max_c):\n",
    "      \n",
    "    max_range = range(1, max_n)\n",
    "    cases = range(0, max_c)\n",
    "    funcs = ['relu', 'logistic', 'tanh']\n",
    "    colors = ['ro', 'go', 'bo']\n",
    "    \n",
    "    best = 0\n",
    "    best_n = 0\n",
    "    best_mlp = None\n",
    "    c = 0\n",
    "    \n",
    "    for func in funcs:\n",
    "        \n",
    "        color = colors[c]\n",
    "        c += 1\n",
    "        \n",
    "        for case in cases:\n",
    "            \n",
    "            accuracy_list = []\n",
    "            \n",
    "            for n in max_range:\n",
    "                mlp = MLPClassifier(solver='lbfgs', activation=func, hidden_layer_sizes=(n))\n",
    "                mlp.fit(x_train, y_train)\n",
    "                y_pred = mlp.predict(x_test)\n",
    "                score = accuracy_score(y_test, y_pred)\n",
    "                accuracy_list.append(score)\n",
    "                \n",
    "                if score > best:\n",
    "                    best = score\n",
    "                    best_n = n\n",
    "                    best_mlp = mlp\n",
    "            \n",
    "            plt.plot(max_range, accuracy_list, color, label='{}{}'.format(func, case))\n",
    "    \n",
    "    plt.title('Activation function: relu x logistic x tanh')\n",
    "    plt.xlabel('Number of neurons')\n",
    "    plt.ylabel('Accuracy')\n",
    "    plt.legend(loc='best')\n",
    "    plt.show()\n",
    "    \n",
    "    return (best, best_n, best_mlp)"
   ]
  },
  {
   "cell_type": "markdown",
   "metadata": {},
   "source": [
    "### Mean accuracy plot"
   ]
  },
  {
   "cell_type": "code",
   "execution_count": 24,
   "metadata": {
    "scrolled": true
   },
   "outputs": [
    {
     "data": {
      "image/png": "[encoded data removed]",
      "text/plain": [
       "<Figure size 432x288 with 1 Axes>"
      ]
     },
     "metadata": {
      "needs_background": "light"
     },
     "output_type": "display_data"
    },
    {
     "data": {
      "text/plain": [
       "(0.8583333333333333, 7, 'relu')"
      ]
     },
     "execution_count": 24,
     "metadata": {},
     "output_type": "execute_result"
    }
   ],
   "source": [
    "# mean accuracy plot the neurons vs accuracy to check best amount of neurons\n",
    "best_mean_results = classify_mean_accuracy(10, 10) # usually the best amount of neurons is found between the input and output size. Only one hidden layer is required for most feedback neural networks\n",
    "best_mean_results"
   ]
  },
  {
   "cell_type": "markdown",
   "metadata": {},
   "source": [
    "### Point accuracy plot"
   ]
  },
  {
   "cell_type": "code",
   "execution_count": 25,
   "metadata": {},
   "outputs": [
    {
     "data": {
      "image/png": "[encoded data removed]",
      "text/plain": [
       "<Figure size 432x288 with 1 Axes>"
      ]
     },
     "metadata": {
      "needs_background": "light"
     },
     "output_type": "display_data"
    },
    {
     "data": {
      "text/plain": [
       "(0.8916666666666667,\n",
       " 8,\n",
       " MLPClassifier(activation='relu', alpha=0.0001, batch_size='auto', beta_1=0.9,\n",
       "               beta_2=0.999, early_stopping=False, epsilon=1e-08,\n",
       "               hidden_layer_sizes=8, learning_rate='constant',\n",
       "               learning_rate_init=0.001, max_iter=200, momentum=0.9,\n",
       "               n_iter_no_change=10, nesterovs_momentum=True, power_t=0.5,\n",
       "               random_state=None, shuffle=True, solver='lbfgs', tol=0.0001,\n",
       "               validation_fraction=0.1, verbose=False, warm_start=False))"
      ]
     },
     "execution_count": 25,
     "metadata": {},
     "output_type": "execute_result"
    }
   ],
   "source": [
    "# point accuracy plot the neurons vs accuracy to check best amount of neurons\n",
    "best_point_results = classify_point_accuracy(10, 10) # usually the best amount of neurons is found between the input and output size. Only one hidden layer is required for most feedback neural networks\n",
    "best_point_results"
   ]
  },
  {
   "cell_type": "markdown",
   "metadata": {},
   "source": [
    "## Application of Model"
   ]
  },
  {
   "cell_type": "code",
   "execution_count": 26,
   "metadata": {},
   "outputs": [],
   "source": [
    "# First try out the best punctual accuracy mlp found. It usually brings results of at least 85%\n",
    "mlp = best_point_results[2]"
   ]
  },
  {
   "cell_type": "code",
   "execution_count": 27,
   "metadata": {},
   "outputs": [
    {
     "name": "stdout",
     "output_type": "stream",
     "text": [
      "Misclassified samples: 26/240\n",
      "Accuracy: 0.89\n",
      "[[ 58  16]\n",
      " [ 10 156]]\n"
     ]
    }
   ],
   "source": [
    "# use the model to make predictions wih the test data\n",
    "y_pred = mlp.predict(x_test)\n",
    "# how did our model perform?\n",
    "count_misclassified = (y_test != y_pred).sum()\n",
    "print('Misclassified samples: {}/{}'.format(count_misclassified, len(y_test)))\n",
    "accuracy = accuracy_score(y_test, y_pred)\n",
    "print('Accuracy: {:.2f}'.format(accuracy))\n",
    "print(confusion_matrix(y_test, y_pred))"
   ]
  },
  {
   "cell_type": "code",
   "execution_count": 28,
   "metadata": {},
   "outputs": [
    {
     "data": {
      "text/plain": [
       "MLPClassifier(activation='relu', alpha=0.0001, batch_size='auto', beta_1=0.9,\n",
       "              beta_2=0.999, early_stopping=False, epsilon=1e-08,\n",
       "              hidden_layer_sizes=7, learning_rate='constant',\n",
       "              learning_rate_init=0.001, max_iter=200, momentum=0.9,\n",
       "              n_iter_no_change=10, nesterovs_momentum=True, power_t=0.5,\n",
       "              random_state=None, shuffle=True, solver='lbfgs', tol=0.0001,\n",
       "              validation_fraction=0.1, verbose=False, warm_start=False)"
      ]
     },
     "execution_count": 28,
     "metadata": {},
     "output_type": "execute_result"
    }
   ],
   "source": [
    "# Second try out the best mean accuracy data into a new mlp and check results. They are usually at least 75%\n",
    "mlp = MLPClassifier(solver='lbfgs', activation=best_mean_results[2], hidden_layer_sizes=best_mean_results[1])\n",
    "mlp.fit(x_train,y_train)"
   ]
  },
  {
   "cell_type": "code",
   "execution_count": 30,
   "metadata": {},
   "outputs": [
    {
     "name": "stdout",
     "output_type": "stream",
     "text": [
      "Misclassified samples: 35/240\n",
      "Accuracy: 0.85\n",
      "[[ 53  21]\n",
      " [ 14 152]]\n"
     ]
    }
   ],
   "source": [
    "# use the model to make predictions with the test data\n",
    "y_pred = mlp.predict(x_test)\n",
    "# how did our model perform?\n",
    "count_misclassified = (y_test != y_pred).sum()\n",
    "print('Misclassified samples: {}/{}'.format(count_misclassified, len(y_test)))\n",
    "accuracy = accuracy_score(y_test, y_pred)\n",
    "print('Accuracy: {:.2f}'.format(accuracy))\n",
    "print(confusion_matrix(y_test, y_pred))"
   ]
  },
  {
   "cell_type": "markdown",
   "metadata": {},
   "source": [
    "## Conclusion"
   ]
  },
  {
   "cell_type": "code",
   "execution_count": null,
   "metadata": {},
   "outputs": [],
   "source": []
  }
 ],
 "metadata": {
  "kernelspec": {
   "display_name": "Python 3",
   "language": "python",
   "name": "python3"
  },
  "language_info": {
   "codemirror_mode": {
    "name": "ipython",
    "version": 3
   },
   "file_extension": ".py",
   "mimetype": "text/x-python",
   "name": "python",
   "nbconvert_exporter": "python",
   "pygments_lexer": "ipython3",
   "version": "3.7.3"
  }
 },
 "nbformat": 4,
 "nbformat_minor": 2
}
